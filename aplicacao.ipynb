{
 "cells": [
  {
   "cell_type": "code",
   "execution_count": null,
   "id": "61dba9b0",
   "metadata": {},
   "outputs": [],
   "source": [
    "print('Python na Escola de Programação da Alura.')\n",
    "idade = input('insira sua idade')\n",
    "nome = input('insira seu nome')\n",
    "print(f'essa é a sua idade: {idade} / e esse é o seu nome: {nome} ')\n",
    "print(\"A\\n\")\n",
    "print(\"L\\n\")\n",
    "print(\"U\\n\")\n",
    "print(\"R\\n\")\n",
    "print(\"A\\n\")\n",
    "\n",
    "Pi = input('insira pi arrendondado')\n",
    "print(f\"O valor arredondado de pi é: {Pi}\")\n",
    "print('''Camiseta Unissex\n",
    "Tamanho: P, M, G, GG\n",
    "Material: 100% algodão\n",
    "Cores disponíveis: Preto, Branco, Vermelho''')\n",
    "print(\"Camiseta Unissex\",\"Tamanho: P, M, G, GG\",\"Material: 100% algodão\",\"Cores disponíveis: Preto, Branco, Vermelho\", sep ='\\n')\n",
    "print(\"Sabor Express\")\n",
    "\n",
    "print('1. Cadastrar restaurante')\n",
    "print('2. Listar restaurante')\n",
    "print('3. Ativar restaurante')\n",
    "print('4. Sair')\n",
    "\n",
    "opcao_escolhida = int(input('escolha uma opção:'))\n",
    "# print(f'vc escolheu a opção {opcao_escolhida}')\n",
    "\n",
    "if opcao_escolhida == 1:\n",
    "    print('Cadastrar restaurante')\n",
    "elif opcao_escolhida == 2:\n",
    "    print('Listar restaurante')\n",
    "elif opcao_escolhida == 3:\n",
    "    print('Ativar restaurante')\n",
    "elif opcao_escolhida == 4:\n",
    "    print('Sair')\n",
    "else:\n",
    "    print('Essa função não existe')\n",
    "\n",
    "\n",
    "print('teste')"
   ]
  }
 ],
 "metadata": {
  "kernelspec": {
   "display_name": "Python 3",
   "language": "python",
   "name": "python3"
  },
  "language_info": {
   "name": "python",
   "version": "3.12.5"
  }
 },
 "nbformat": 4,
 "nbformat_minor": 5
}
